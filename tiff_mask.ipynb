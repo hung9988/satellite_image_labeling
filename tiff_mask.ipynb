{
 "cells": [
  {
   "cell_type": "code",
   "execution_count": 11,
   "metadata": {},
   "outputs": [
    {
     "name": "stdout",
     "output_type": "stream",
     "text": [
      "TIFF file created successfully.\n"
     ]
    },
    {
     "ename": "",
     "evalue": "",
     "output_type": "error",
     "traceback": [
      "\u001b[1;31mThe Kernel crashed while executing code in the current cell or a previous cell. \n",
      "\u001b[1;31mPlease review the code in the cell(s) to identify a possible cause of the failure. \n",
      "\u001b[1;31mClick <a href='https://aka.ms/vscodeJupyterKernelCrash'>here</a> for more info. \n",
      "\u001b[1;31mView Jupyter <a href='command:jupyter.viewOutput'>log</a> for further details."
     ]
    }
   ],
   "source": [
    "import geopandas as gpd\n",
    "import rasterio\n",
    "from rasterio.features import rasterize\n",
    "import os\n",
    "def get_tiff_metadata(tiff_path):\n",
    "    with rasterio.open(tiff_path) as src:\n",
    "        width = src.width\n",
    "        height = src.height\n",
    "        transform = src.transform\n",
    "        crs = src.crs\n",
    "        return width, height, transform, crs\n",
    "\n",
    "def create_tiff_from_shapefile(input_shapefile, output_tiff, reference_tiff):\n",
    "    # Load the shapefile\n",
    "    shapes = gpd.read_file(input_shapefile)\n",
    "\n",
    "    # Get metadata from the reference TIFF\n",
    "    width, height, transform, crs = get_tiff_metadata(reference_tiff)\n",
    "\n",
    "    # Rasterize the shapefile to match the dimensions of the reference TIFF\n",
    "    rasterized_output = rasterize(\n",
    "        [geom for geom in shapes.geometry],\n",
    "        out_shape=(height, width),\n",
    "        fill=0,\n",
    "        transform=transform,\n",
    "        dtype='int32'\n",
    "    )\n",
    "\n",
    "    # Save the rasterized output to a TIFF file\n",
    "    with rasterio.open(\n",
    "        output_tiff, 'w',\n",
    "        driver='GTiff',\n",
    "        height=height,\n",
    "        width=width,\n",
    "        count=1,\n",
    "        dtype=str(rasterized_output.dtype),\n",
    "        crs=crs,\n",
    "        transform=transform,\n",
    "    ) as dst:\n",
    "        dst.write(rasterized_output, 1)\n",
    "\n",
    "    print(\"TIFF file created successfully.\")\n",
    "\n",
    "# Specify the path to your TIFF file\n",
    "tiff_path = 'ThanhHoa_SubImage0_raster.tif'\n",
    "\n",
    "# Create tiff mask\n",
    "create_tiff_from_shapefile(\n",
    "    'Image0_wheat.shp',\n",
    "    'output.tif',\n",
    "    tiff_path  # Reference the original TIFF file to match its dimensions\n",
    ")\n"
   ]
  },
  {
   "cell_type": "code",
   "execution_count": null,
   "metadata": {},
   "outputs": [],
   "source": [
    "\n",
    "for tiff_file in os.listdir('/'):\n",
    "    if tiff_file.endswith('.shp'):\n",
    "        shapefile_path = os.path.join('data', tiff_file)\n",
    "        output_tiff_path = os.path.join('/', tiff_file.split('.')[0] + '_label.tif')\n",
    "        reference_tiff_path = os.path.join('data', \"Sub\"+ tiff_file.split('_')[0] + '.tif')\n",
    "\n",
    "        create_tiff_from_shapefile(shapefile_path, output_tiff_path, reference_tiff_path)\n",
    "        print(f\"Created mask for {tiff_file}.\")"
   ]
  },
  {
   "cell_type": "code",
   "execution_count": 3,
   "metadata": {},
   "outputs": [],
   "source": [
    "import folium\n",
    "\n",
    "# Create a map centered around the approximate center of the polygon\n",
    "m = folium.Map(location=[19.86565, 105.86305], zoom_start=10)\n",
    "\n",
    "# Define the polygon coordinates\n",
    "north = 19.9614\n",
    "west = 105.7595\n",
    "east = 105.9666\n",
    "south = 19.7699\n",
    "\n",
    "# Create the polygon coordinates\n",
    "polygon_coords = [\n",
    "    [north, west],  # Top-left\n",
    "    [north, east],  # Top-right\n",
    "    [south, east],  # Bottom-right\n",
    "    [south, west],  # Bottom-left\n",
    "    [north, west]   # Closing the polygon\n",
    "]\n",
    "\n",
    "# Add the polygon to the map\n",
    "folium.Polygon(polygon_coords, color=\"blue\", weight=2.5, fill=True).add_to(m)\n",
    "\n",
    "# Display the map\n",
    "m.save(\"bounding_box_polygon.html\")"
   ]
  },
  {
   "cell_type": "code",
   "execution_count": 2,
   "metadata": {},
   "outputs": [
    {
     "ename": "NameError",
     "evalue": "name '__file__' is not defined",
     "output_type": "error",
     "traceback": [
      "\u001b[1;31m---------------------------------------------------------------------------\u001b[0m",
      "\u001b[1;31mNameError\u001b[0m                                 Traceback (most recent call last)",
      "Cell \u001b[1;32mIn[2], line 3\u001b[0m\n\u001b[0;32m      1\u001b[0m \u001b[38;5;28;01mimport\u001b[39;00m \u001b[38;5;21;01mos\u001b[39;00m\n\u001b[0;32m      2\u001b[0m \u001b[38;5;28;01mimport\u001b[39;00m \u001b[38;5;21;01msys\u001b[39;00m\n\u001b[1;32m----> 3\u001b[0m os\u001b[38;5;241m.\u001b[39mpath\u001b[38;5;241m.\u001b[39mdirname(os\u001b[38;5;241m.\u001b[39mpath\u001b[38;5;241m.\u001b[39mrealpath(\u001b[38;5;18;43m__file__\u001b[39;49m))\n",
      "\u001b[1;31mNameError\u001b[0m: name '__file__' is not defined"
     ]
    }
   ],
   "source": [
    "import os\n",
    "import sys\n",
    "os.path.dirname(os.path.realpath(__file__))"
   ]
  }
 ],
 "metadata": {
  "kernelspec": {
   "display_name": "Python 3",
   "language": "python",
   "name": "python3"
  },
  "language_info": {
   "codemirror_mode": {
    "name": "ipython",
    "version": 3
   },
   "file_extension": ".py",
   "mimetype": "text/x-python",
   "name": "python",
   "nbconvert_exporter": "python",
   "pygments_lexer": "ipython3",
   "version": "3.12.4"
  }
 },
 "nbformat": 4,
 "nbformat_minor": 2
}
