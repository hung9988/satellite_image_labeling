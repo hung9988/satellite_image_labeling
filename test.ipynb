{
 "cells": [
  {
   "cell_type": "code",
   "execution_count": 21,
   "metadata": {},
   "outputs": [],
   "source": [
    "base_path=\"C:/Users/hung/thanh_Hoa_Image\"\n",
    "data_path = os.path.join(base_path, \"data\")\n",
    "tiff_files=os.listdir(data_path)\n",
    "tiff_paths=[{\"path\":os.path.join(base_path,\"data\",f),\n",
    "             \"name\":f.split('.')[0]}\n",
    "            for f in tiff_files if f.endswith(\".tiff\") or f.endswith(\".tif\")]\n"
   ]
  },
  {
   "cell_type": "code",
   "execution_count": 22,
   "metadata": {},
   "outputs": [
    {
     "data": {
      "text/plain": [
       "[{'path': 'C:/Users/hung/thanh_Hoa_Image\\\\data\\\\Image_0.tif',\n",
       "  'name': 'Image_0'},\n",
       " {'path': 'C:/Users/hung/thanh_Hoa_Image\\\\data\\\\Image_1.tif',\n",
       "  'name': 'Image_1'},\n",
       " {'path': 'C:/Users/hung/thanh_Hoa_Image\\\\data\\\\Image_10.tif',\n",
       "  'name': 'Image_10'},\n",
       " {'path': 'C:/Users/hung/thanh_Hoa_Image\\\\data\\\\Image_11.tif',\n",
       "  'name': 'Image_11'},\n",
       " {'path': 'C:/Users/hung/thanh_Hoa_Image\\\\data\\\\Image_12.tif',\n",
       "  'name': 'Image_12'},\n",
       " {'path': 'C:/Users/hung/thanh_Hoa_Image\\\\data\\\\Image_13.tif',\n",
       "  'name': 'Image_13'},\n",
       " {'path': 'C:/Users/hung/thanh_Hoa_Image\\\\data\\\\Image_14.tif',\n",
       "  'name': 'Image_14'},\n",
       " {'path': 'C:/Users/hung/thanh_Hoa_Image\\\\data\\\\Image_15.tif',\n",
       "  'name': 'Image_15'},\n",
       " {'path': 'C:/Users/hung/thanh_Hoa_Image\\\\data\\\\Image_16.tif',\n",
       "  'name': 'Image_16'},\n",
       " {'path': 'C:/Users/hung/thanh_Hoa_Image\\\\data\\\\Image_17.tif',\n",
       "  'name': 'Image_17'},\n",
       " {'path': 'C:/Users/hung/thanh_Hoa_Image\\\\data\\\\Image_18.tif',\n",
       "  'name': 'Image_18'},\n",
       " {'path': 'C:/Users/hung/thanh_Hoa_Image\\\\data\\\\Image_19.tif',\n",
       "  'name': 'Image_19'},\n",
       " {'path': 'C:/Users/hung/thanh_Hoa_Image\\\\data\\\\Image_2.tif',\n",
       "  'name': 'Image_2'},\n",
       " {'path': 'C:/Users/hung/thanh_Hoa_Image\\\\data\\\\Image_20.tif',\n",
       "  'name': 'Image_20'},\n",
       " {'path': 'C:/Users/hung/thanh_Hoa_Image\\\\data\\\\Image_21.tif',\n",
       "  'name': 'Image_21'},\n",
       " {'path': 'C:/Users/hung/thanh_Hoa_Image\\\\data\\\\Image_22.tif',\n",
       "  'name': 'Image_22'},\n",
       " {'path': 'C:/Users/hung/thanh_Hoa_Image\\\\data\\\\Image_23.tif',\n",
       "  'name': 'Image_23'},\n",
       " {'path': 'C:/Users/hung/thanh_Hoa_Image\\\\data\\\\Image_24.tif',\n",
       "  'name': 'Image_24'},\n",
       " {'path': 'C:/Users/hung/thanh_Hoa_Image\\\\data\\\\Image_3.tif',\n",
       "  'name': 'Image_3'},\n",
       " {'path': 'C:/Users/hung/thanh_Hoa_Image\\\\data\\\\Image_4.tif',\n",
       "  'name': 'Image_4'},\n",
       " {'path': 'C:/Users/hung/thanh_Hoa_Image\\\\data\\\\Image_5.tif',\n",
       "  'name': 'Image_5'},\n",
       " {'path': 'C:/Users/hung/thanh_Hoa_Image\\\\data\\\\Image_6.tif',\n",
       "  'name': 'Image_6'},\n",
       " {'path': 'C:/Users/hung/thanh_Hoa_Image\\\\data\\\\Image_7.tif',\n",
       "  'name': 'Image_7'},\n",
       " {'path': 'C:/Users/hung/thanh_Hoa_Image\\\\data\\\\Image_8.tif',\n",
       "  'name': 'Image_8'},\n",
       " {'path': 'C:/Users/hung/thanh_Hoa_Image\\\\data\\\\Image_9.tif',\n",
       "  'name': 'Image_9'}]"
      ]
     },
     "execution_count": 22,
     "metadata": {},
     "output_type": "execute_result"
    }
   ],
   "source": [
    "tiff_paths"
   ]
  },
  {
   "cell_type": "code",
   "execution_count": 16,
   "metadata": {},
   "outputs": [
    {
     "data": {
      "text/plain": [
       "['Image_0.tif',\n",
       " 'Image_1.tif',\n",
       " 'Image_10.tif',\n",
       " 'Image_11.tif',\n",
       " 'Image_12.tif',\n",
       " 'Image_13.tif',\n",
       " 'Image_14.tif',\n",
       " 'Image_15.tif',\n",
       " 'Image_16.tif',\n",
       " 'Image_17.tif',\n",
       " 'Image_18.tif',\n",
       " 'Image_19.tif',\n",
       " 'Image_2.tif',\n",
       " 'Image_20.tif',\n",
       " 'Image_21.tif',\n",
       " 'Image_22.tif',\n",
       " 'Image_23.tif',\n",
       " 'Image_24.tif',\n",
       " 'Image_3.tif',\n",
       " 'Image_4.tif',\n",
       " 'Image_5.tif',\n",
       " 'Image_6.tif',\n",
       " 'Image_7.tif',\n",
       " 'Image_8.tif',\n",
       " 'Image_9.tif']"
      ]
     },
     "execution_count": 16,
     "metadata": {},
     "output_type": "execute_result"
    }
   ],
   "source": [
    "tiff_files"
   ]
  }
 ],
 "metadata": {
  "kernelspec": {
   "display_name": "Python 3",
   "language": "python",
   "name": "python3"
  },
  "language_info": {
   "codemirror_mode": {
    "name": "ipython",
    "version": 3
   },
   "file_extension": ".py",
   "mimetype": "text/x-python",
   "name": "python",
   "nbconvert_exporter": "python",
   "pygments_lexer": "ipython3",
   "version": "3.12.4"
  }
 },
 "nbformat": 4,
 "nbformat_minor": 2
}
