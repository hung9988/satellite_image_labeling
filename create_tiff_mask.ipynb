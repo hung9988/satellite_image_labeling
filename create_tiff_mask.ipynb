{
 "cells": [
  {
   "cell_type": "code",
   "execution_count": null,
   "metadata": {},
   "outputs": [],
   "source": [
    "import geopandas as gpd\n",
    "import rasterio\n",
    "from rasterio.features import rasterize\n",
    "import os\n",
    "def get_tiff_metadata(tiff_path):\n",
    "    with rasterio.open(tiff_path) as src:\n",
    "        width = src.width\n",
    "        height = src.height\n",
    "        transform = src.transform\n",
    "        crs = src.crs\n",
    "        return width, height, transform, crs\n",
    "\n",
    "def create_tiff_from_shapefile(input_shapefile, output_tiff, reference_tiff):\n",
    "    # Load the shapefile\n",
    "    shapes = gpd.read_file(input_shapefile)\n",
    "\n",
    "    # Get metadata from the reference TIFF\n",
    "    width, height, transform, crs = get_tiff_metadata(reference_tiff)\n",
    "\n",
    "    # Rasterize the shapefile to match the dimensions of the reference TIFF\n",
    "    rasterized_output = rasterize(\n",
    "        [geom for geom in shapes.geometry],\n",
    "        out_shape=(height, width),\n",
    "        fill=0,\n",
    "        transform=transform,\n",
    "        dtype='int32'\n",
    "    )\n",
    "\n",
    "    # Save the rasterized output to a TIFF file\n",
    "    with rasterio.open(\n",
    "        output_tiff, 'w',\n",
    "        driver='GTiff',\n",
    "        height=height,\n",
    "        width=width,\n",
    "        count=1,\n",
    "        dtype=str(rasterized_output.dtype),\n",
    "        crs=crs,\n",
    "        transform=transform,\n",
    "    ) as dst:\n",
    "        dst.write(rasterized_output, 1)\n",
    "\n",
    "    print(\"TIFF file created successfully.\")\n",
    "\n",
    "# Specify the path to your TIFF file\n",
    "tiff_path = 'ThanhHoa_SubImage0_raster.tif'\n",
    "\n",
    "# Create tiff mask\n",
    "create_tiff_from_shapefile(\n",
    "    'Image0_wheat.shp',\n",
    "    'output.tif',\n",
    "    tiff_path  # Reference the original TIFF file to match its dimensions\n",
    ")\n"
   ]
  },
  {
   "cell_type": "code",
   "execution_count": null,
   "metadata": {},
   "outputs": [],
   "source": [
    "for tiff_file in os.listdir('/'):\n",
    "    if tiff_file.endswith('.shp'):\n",
    "        shapefile_path = os.path.join('data', tiff_file)\n",
    "        output_tiff_path = os.path.join('/', tiff_file.split('.')[0] + '_label.tif')\n",
    "        reference_tiff_path = os.path.join('data', \"Sub\"+ tiff_file.split('_')[0] + '.tif')\n",
    "\n",
    "        create_tiff_from_shapefile(shapefile_path, output_tiff_path, reference_tiff_path)\n",
    "        print(f\"Created mask for {tiff_file}.\")"
   ]
  }
 ],
 "metadata": {
  "kernelspec": {
   "display_name": "Python 3",
   "language": "python",
   "name": "python3"
  },
  "language_info": {
   "codemirror_mode": {
    "name": "ipython",
    "version": 3
   },
   "file_extension": ".py",
   "mimetype": "text/x-python",
   "name": "python",
   "nbconvert_exporter": "python",
   "pygments_lexer": "ipython3",
   "version": "3.12.4"
  }
 },
 "nbformat": 4,
 "nbformat_minor": 2
}
